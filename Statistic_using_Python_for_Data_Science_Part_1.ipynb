{
  "nbformat": 4,
  "nbformat_minor": 0,
  "metadata": {
    "colab": {
      "provenance": []
    },
    "kernelspec": {
      "name": "python3",
      "display_name": "Python 3"
    },
    "language_info": {
      "name": "python"
    }
  },
  "cells": [
    {
      "cell_type": "markdown",
      "source": [
        "Load Library"
      ],
      "metadata": {
        "id": "S3wZHoHnWKQO"
      }
    },
    {
      "cell_type": "code",
      "source": [
        "# memuat numpy sebagai np\n",
        "import numpy as np\n",
        "# memuat pandas sebagai pd\n",
        "import pandas as pd"
      ],
      "metadata": {
        "id": "S7KpkGWsWLc9"
      },
      "execution_count": 1,
      "outputs": []
    },
    {
      "cell_type": "markdown",
      "source": [
        "Load Dataset"
      ],
      "metadata": {
        "id": "3ul8XHaYWPQV"
      }
    },
    {
      "cell_type": "code",
      "source": [
        "import pandas as pd\n",
        "# memuat data bernama 'dataset_statistics.csv' dan memasukkan hasilnya ke dalam 'raw_data'\n",
        "raw_data = pd.read_csv(\"https://storage.googleapis.com/dqlab-dataset/dataset_statistic.csv\", sep=';')"
      ],
      "metadata": {
        "id": "ce4i6ohrWYde"
      },
      "execution_count": null,
      "outputs": []
    },
    {
      "cell_type": "markdown",
      "source": [
        "Inspeksi Data"
      ],
      "metadata": {
        "id": "8uQWx8-EW2Gl"
      }
    },
    {
      "cell_type": "code",
      "source": [
        "print (raw_data)\n",
        "# melihat 10 data pada baris pertama\n",
        "print (raw_data.head(10))\n",
        "\n",
        "# melihat 5 data pada baris terakhir\n",
        "print (raw_data.tail())"
      ],
      "metadata": {
        "id": "2qOiJZTQW7gN",
        "outputId": "6c0b8941-6702-4284-ff97-2b683ba7ee70",
        "colab": {
          "base_uri": "https://localhost:8080/"
        }
      },
      "execution_count": 4,
      "outputs": [
        {
          "output_type": "stream",
          "name": "stdout",
          "text": [
            "    ID Pelanggan     Nama  Jenis Kelamin  Pendapatan Produk   Harga  Jumlah   \\\n",
            "0              1     Arif              1      600000      A  100000        4   \n",
            "1              2     Dian              2     1200000      D  250000        4   \n",
            "2              3    Dinda              2      950000      D  250000        3   \n",
            "3              4    Fajar              1      400000      A  100000        2   \n",
            "4              5      Ika              2     1200000      D  250000        4   \n",
            "5              6    Ilham              1      800000      B  150000        4   \n",
            "6              7    Indra              1      950000      B  150000        5   \n",
            "7              8  Kartika              2     1100000      E  300000        3   \n",
            "8              9  Lestari              2      800000      E  300000        2   \n",
            "9             10      Lia              2     1700000      E  300000        5   \n",
            "10            11    Maria              2      600000      A  100000        4   \n",
            "11            12     Maya              2      950000      B  150000        5   \n",
            "12            13     Mila              2      400000      C  200000        1   \n",
            "13            14    Nurul              2     6450000      D  250000        5   \n",
            "14            15    Retno              2     1000000      C  200000        4   \n",
            "15            16     Rini              2      800000      B  150000        4   \n",
            "16            17    Rizki              1     1200000      C  200000        5   \n",
            "17            18     Sari              2      700000      D  250000        2   \n",
            "18            19     Tyas              2      600000      A  100000        4   \n",
            "19            20    Wahyu              1      800000      C  200000        3   \n",
            "\n",
            "      Total  Tingkat Kepuasan  \n",
            "0    400000                 2  \n",
            "1   1000000                 2  \n",
            "2    750000                 3  \n",
            "3    200000                 3  \n",
            "4   1000000                 2  \n",
            "5    600000                 3  \n",
            "6    750000                 1  \n",
            "7    900000                 3  \n",
            "8    600000                 1  \n",
            "9   1500000                 1  \n",
            "10   400000                 3  \n",
            "11   750000                 3  \n",
            "12   200000                 2  \n",
            "13  1250000                 1  \n",
            "14   800000                 2  \n",
            "15   600000                 1  \n",
            "16  1000000                 3  \n",
            "17   500000                 1  \n",
            "18   400000                 3  \n",
            "19   600000                 1  \n",
            "   ID Pelanggan     Nama  Jenis Kelamin  Pendapatan Produk   Harga  Jumlah   \\\n",
            "0             1     Arif              1      600000      A  100000        4   \n",
            "1             2     Dian              2     1200000      D  250000        4   \n",
            "2             3    Dinda              2      950000      D  250000        3   \n",
            "3             4    Fajar              1      400000      A  100000        2   \n",
            "4             5      Ika              2     1200000      D  250000        4   \n",
            "5             6    Ilham              1      800000      B  150000        4   \n",
            "6             7    Indra              1      950000      B  150000        5   \n",
            "7             8  Kartika              2     1100000      E  300000        3   \n",
            "8             9  Lestari              2      800000      E  300000        2   \n",
            "9            10      Lia              2     1700000      E  300000        5   \n",
            "\n",
            "     Total  Tingkat Kepuasan  \n",
            "0   400000                 2  \n",
            "1  1000000                 2  \n",
            "2   750000                 3  \n",
            "3   200000                 3  \n",
            "4  1000000                 2  \n",
            "5   600000                 3  \n",
            "6   750000                 1  \n",
            "7   900000                 3  \n",
            "8   600000                 1  \n",
            "9  1500000                 1  \n",
            "    ID Pelanggan   Nama  Jenis Kelamin  Pendapatan Produk   Harga  Jumlah   \\\n",
            "15            16   Rini              2      800000      B  150000        4   \n",
            "16            17  Rizki              1     1200000      C  200000        5   \n",
            "17            18   Sari              2      700000      D  250000        2   \n",
            "18            19   Tyas              2      600000      A  100000        4   \n",
            "19            20  Wahyu              1      800000      C  200000        3   \n",
            "\n",
            "      Total  Tingkat Kepuasan  \n",
            "15   600000                 1  \n",
            "16  1000000                 3  \n",
            "17   500000                 1  \n",
            "18   400000                 3  \n",
            "19   600000                 1  \n"
          ]
        }
      ]
    },
    {
      "cell_type": "markdown",
      "source": [
        "Metode Shape"
      ],
      "metadata": {
        "id": "uIi6LJ22YLRz"
      }
    },
    {
      "cell_type": "code",
      "source": [
        "# melihat dimensi dari raw_data\n",
        "print (raw_data.shape)\n",
        "\n",
        "# mengambil jumlah data\n",
        "print (raw_data.shape[0])"
      ],
      "metadata": {
        "id": "lObJqcE0YLzz",
        "outputId": "40fbbf73-2e57-4e20-d5a6-7ea24053287e",
        "colab": {
          "base_uri": "https://localhost:8080/"
        }
      },
      "execution_count": 5,
      "outputs": [
        {
          "output_type": "stream",
          "name": "stdout",
          "text": [
            "(20, 9)\n",
            "20\n"
          ]
        }
      ]
    },
    {
      "cell_type": "markdown",
      "source": [
        "Melihat Kolom Dalam Dataset"
      ],
      "metadata": {
        "id": "97133rzkYrHj"
      }
    },
    {
      "cell_type": "code",
      "source": [
        "print(raw_data.columns)"
      ],
      "metadata": {
        "id": "M17yZhheYr2a",
        "outputId": "fb658736-1927-4ffa-928f-69dc9cfc318a",
        "colab": {
          "base_uri": "https://localhost:8080/"
        }
      },
      "execution_count": 7,
      "outputs": [
        {
          "output_type": "stream",
          "name": "stdout",
          "text": [
            "Index(['ID Pelanggan', 'Nama', 'Jenis Kelamin', 'Pendapatan', 'Produk',\n",
            "       'Harga', 'Jumlah ', 'Total', 'Tingkat Kepuasan'],\n",
            "      dtype='object')\n"
          ]
        }
      ]
    },
    {
      "cell_type": "markdown",
      "source": [
        "Metode Isna\n",
        "\n",
        "Ada berapa banyak data yang hilang dari dataset?"
      ],
      "metadata": {
        "id": "ApOpLo_zZLP6"
      }
    },
    {
      "cell_type": "code",
      "source": [
        "print(raw_data.isna())\n",
        "# menghitung jumlah data yang hilang dari dataset\n",
        "print(raw_data.isna().sum())"
      ],
      "metadata": {
        "id": "fw7LFsAXZP5j",
        "outputId": "517bbe49-6203-4e65-f516-ca1f4b7f0015",
        "colab": {
          "base_uri": "https://localhost:8080/"
        }
      },
      "execution_count": 10,
      "outputs": [
        {
          "output_type": "stream",
          "name": "stdout",
          "text": [
            "    ID Pelanggan   Nama  Jenis Kelamin  Pendapatan  Produk  Harga  Jumlah   \\\n",
            "0          False  False          False       False   False  False    False   \n",
            "1          False  False          False       False   False  False    False   \n",
            "2          False  False          False       False   False  False    False   \n",
            "3          False  False          False       False   False  False    False   \n",
            "4          False  False          False       False   False  False    False   \n",
            "5          False  False          False       False   False  False    False   \n",
            "6          False  False          False       False   False  False    False   \n",
            "7          False  False          False       False   False  False    False   \n",
            "8          False  False          False       False   False  False    False   \n",
            "9          False  False          False       False   False  False    False   \n",
            "10         False  False          False       False   False  False    False   \n",
            "11         False  False          False       False   False  False    False   \n",
            "12         False  False          False       False   False  False    False   \n",
            "13         False  False          False       False   False  False    False   \n",
            "14         False  False          False       False   False  False    False   \n",
            "15         False  False          False       False   False  False    False   \n",
            "16         False  False          False       False   False  False    False   \n",
            "17         False  False          False       False   False  False    False   \n",
            "18         False  False          False       False   False  False    False   \n",
            "19         False  False          False       False   False  False    False   \n",
            "\n",
            "    Total  Tingkat Kepuasan  \n",
            "0   False             False  \n",
            "1   False             False  \n",
            "2   False             False  \n",
            "3   False             False  \n",
            "4   False             False  \n",
            "5   False             False  \n",
            "6   False             False  \n",
            "7   False             False  \n",
            "8   False             False  \n",
            "9   False             False  \n",
            "10  False             False  \n",
            "11  False             False  \n",
            "12  False             False  \n",
            "13  False             False  \n",
            "14  False             False  \n",
            "15  False             False  \n",
            "16  False             False  \n",
            "17  False             False  \n",
            "18  False             False  \n",
            "19  False             False  \n",
            "ID Pelanggan        0\n",
            "Nama                0\n",
            "Jenis Kelamin       0\n",
            "Pendapatan          0\n",
            "Produk              0\n",
            "Harga               0\n",
            "Jumlah              0\n",
            "Total               0\n",
            "Tingkat Kepuasan    0\n",
            "dtype: int64\n"
          ]
        }
      ]
    },
    {
      "cell_type": "markdown",
      "source": [
        "Metode Describe\n",
        "\n",
        "Untuk bisa melihat ringkasan dari data"
      ],
      "metadata": {
        "id": "Ip3bG7YUaH6B"
      }
    },
    {
      "cell_type": "code",
      "source": [
        "print (raw_data.describe())\n",
        "\n",
        "# Mencari nilai maksimum dari tiap kolom\n",
        "raw_data.max()\n",
        "\n",
        "# Mencari nilai maksimum dari kolom 'Harga'\n",
        "raw_data['Harga'].max()\n",
        "\n",
        "# Mencari nilai minimum dari kolom 'Harga'\n",
        "raw_data['Harga'].min()"
      ],
      "metadata": {
        "id": "oblsbln5aJg5",
        "outputId": "01abb68f-31f0-41d1-818d-b35de85e4c06",
        "colab": {
          "base_uri": "https://localhost:8080/"
        }
      },
      "execution_count": 11,
      "outputs": [
        {
          "output_type": "stream",
          "name": "stdout",
          "text": [
            "       ID Pelanggan  Jenis Kelamin    Pendapatan          Harga    Jumlah   \\\n",
            "count      20.00000      20.000000  2.000000e+01      20.000000  20.000000   \n",
            "mean       10.50000       1.700000  1.160000e+06  197500.000000   3.650000   \n",
            "std         5.91608       0.470162  1.282842e+06   69726.910912   1.182103   \n",
            "min         1.00000       1.000000  4.000000e+05  100000.000000   1.000000   \n",
            "25%         5.75000       1.000000  6.750000e+05  150000.000000   3.000000   \n",
            "50%        10.50000       2.000000  8.750000e+05  200000.000000   4.000000   \n",
            "75%        15.25000       2.000000  1.125000e+06  250000.000000   4.250000   \n",
            "max        20.00000       2.000000  6.450000e+06  300000.000000   5.000000   \n",
            "\n",
            "              Total  Tingkat Kepuasan  \n",
            "count  2.000000e+01         20.000000  \n",
            "mean   7.100000e+05          2.050000  \n",
            "std    3.338768e+05          0.887041  \n",
            "min    2.000000e+05          1.000000  \n",
            "25%    4.750000e+05          1.000000  \n",
            "50%    6.750000e+05          2.000000  \n",
            "75%    9.250000e+05          3.000000  \n",
            "max    1.500000e+06          3.000000  \n"
          ]
        },
        {
          "output_type": "execute_result",
          "data": {
            "text/plain": [
              "100000"
            ]
          },
          "metadata": {},
          "execution_count": 11
        }
      ]
    },
    {
      "cell_type": "markdown",
      "source": [
        "Metode Sum"
      ],
      "metadata": {
        "id": "GKHxBbM4bMT4"
      }
    },
    {
      "cell_type": "code",
      "source": [
        "# menghitung jumlah dari semua kolom\n",
        "print (raw_data.sum())\n",
        "\n",
        "# menghitung jumlah dari semua kolom bertipe data numerik saja\n",
        "raw_data.sum(numeric_only=True)\n",
        "\n",
        "# menghitung jumlah dari kolom 'Harga' dan 'Pendapatan'\n",
        "raw_data[['Harga', 'Pendapatan']].sum()"
      ],
      "metadata": {
        "id": "-ky2l4K8bOUA",
        "outputId": "4c2f196f-d0f8-442c-af84-c9308ec348c6",
        "colab": {
          "base_uri": "https://localhost:8080/",
          "height": 320
        }
      },
      "execution_count": 12,
      "outputs": [
        {
          "output_type": "stream",
          "name": "stdout",
          "text": [
            "ID Pelanggan                                                      210\n",
            "Nama                ArifDianDindaFajarIkaIlhamIndraKartikaLestariL...\n",
            "Jenis Kelamin                                                      34\n",
            "Pendapatan                                                   23200000\n",
            "Produk                                           ADDADBBEEEABCDCBCDAC\n",
            "Harga                                                         3950000\n",
            "Jumlah                                                             73\n",
            "Total                                                        14200000\n",
            "Tingkat Kepuasan                                                   41\n",
            "dtype: object\n"
          ]
        },
        {
          "output_type": "execute_result",
          "data": {
            "text/plain": [
              "Harga          3950000\n",
              "Pendapatan    23200000\n",
              "dtype: int64"
            ],
            "text/html": [
              "<div>\n",
              "<style scoped>\n",
              "    .dataframe tbody tr th:only-of-type {\n",
              "        vertical-align: middle;\n",
              "    }\n",
              "\n",
              "    .dataframe tbody tr th {\n",
              "        vertical-align: top;\n",
              "    }\n",
              "\n",
              "    .dataframe thead th {\n",
              "        text-align: right;\n",
              "    }\n",
              "</style>\n",
              "<table border=\"1\" class=\"dataframe\">\n",
              "  <thead>\n",
              "    <tr style=\"text-align: right;\">\n",
              "      <th></th>\n",
              "      <th>0</th>\n",
              "    </tr>\n",
              "  </thead>\n",
              "  <tbody>\n",
              "    <tr>\n",
              "      <th>Harga</th>\n",
              "      <td>3950000</td>\n",
              "    </tr>\n",
              "    <tr>\n",
              "      <th>Pendapatan</th>\n",
              "      <td>23200000</td>\n",
              "    </tr>\n",
              "  </tbody>\n",
              "</table>\n",
              "</div><br><label><b>dtype:</b> int64</label>"
            ]
          },
          "metadata": {},
          "execution_count": 12
        }
      ]
    },
    {
      "cell_type": "markdown",
      "source": [
        "Manipulasi Dataframe - Memilih Kolom dan Baris"
      ],
      "metadata": {
        "id": "_QJX_19ec-4-"
      }
    },
    {
      "cell_type": "code",
      "source": [
        "# Memilih kolom 'Pendapatan' saja\n",
        "print(raw_data['Pendapatan'])\n",
        "\n",
        "# Memilih kolom 'Jenis Kelamin' dan 'Pendapatan'\n",
        "print(raw_data[['Jenis Kelamin', 'Pendapatan']])"
      ],
      "metadata": {
        "id": "0Zp2nb5Ic_c2",
        "outputId": "f55e5366-ae00-4267-e98f-d527f1073675",
        "colab": {
          "base_uri": "https://localhost:8080/"
        }
      },
      "execution_count": 14,
      "outputs": [
        {
          "output_type": "stream",
          "name": "stdout",
          "text": [
            "0      600000\n",
            "1     1200000\n",
            "2      950000\n",
            "3      400000\n",
            "4     1200000\n",
            "5      800000\n",
            "6      950000\n",
            "7     1100000\n",
            "8      800000\n",
            "9     1700000\n",
            "10     600000\n",
            "11     950000\n",
            "12     400000\n",
            "13    6450000\n",
            "14    1000000\n",
            "15     800000\n",
            "16    1200000\n",
            "17     700000\n",
            "18     600000\n",
            "19     800000\n",
            "Name: Pendapatan, dtype: int64\n",
            "    Jenis Kelamin  Pendapatan\n",
            "0               1      600000\n",
            "1               2     1200000\n",
            "2               2      950000\n",
            "3               1      400000\n",
            "4               2     1200000\n",
            "5               1      800000\n",
            "6               1      950000\n",
            "7               2     1100000\n",
            "8               2      800000\n",
            "9               2     1700000\n",
            "10              2      600000\n",
            "11              2      950000\n",
            "12              2      400000\n",
            "13              2     6450000\n",
            "14              2     1000000\n",
            "15              2      800000\n",
            "16              1     1200000\n",
            "17              2      700000\n",
            "18              2      600000\n",
            "19              1      800000\n"
          ]
        }
      ]
    },
    {
      "cell_type": "markdown",
      "source": [
        "Metode Loc"
      ],
      "metadata": {
        "id": "bh5gQTeUeYTM"
      }
    },
    {
      "cell_type": "code",
      "source": [
        "# Mengambil data dari baris pertama (indeks 0) hingga baris ke-9 (indeks 9), yaitu sebanyak 10 baris\n",
        "print(raw_data[:10])\n",
        "\n",
        "# Mengambil data dari baris ke-4 (indeks 3) hingga baris ke-5 (indeks 4)\n",
        "print(raw_data[3:5])\n",
        "\n",
        "# Mengambil data dari baris ke-2 (indeks 1), baris ke-4 (indeks 3), dan baris ke-11 (indeks 10)\n",
        "print(raw_data.loc[[1,3,10]])\n",
        "\n",
        "# Mengambil kolom 'Jenis Kelamin' dan 'Pendapatan' dari baris ke-2 (indeks 1) hingga baris ke-10 (indeks 9)\n",
        "print(raw_data[['Jenis Kelamin', 'Pendapatan']][1:10])\n",
        "\n",
        "# Mengambil kolom 'Harga' dan 'Tingkat Kepuasan' dari baris ke-2 (indeks 1), baris ke-11 (indeks 10), dan baris ke-16 (indeks 15)\n",
        "print(raw_data[['Harga', 'Tingkat Kepuasan']].loc[[1, 10, 15]])"
      ],
      "metadata": {
        "id": "CJdAH20LeZIt",
        "outputId": "d520b897-f93f-4915-abe2-b498cf148545",
        "colab": {
          "base_uri": "https://localhost:8080/"
        }
      },
      "execution_count": 15,
      "outputs": [
        {
          "output_type": "stream",
          "name": "stdout",
          "text": [
            "   ID Pelanggan     Nama  Jenis Kelamin  Pendapatan Produk   Harga  Jumlah   \\\n",
            "0             1     Arif              1      600000      A  100000        4   \n",
            "1             2     Dian              2     1200000      D  250000        4   \n",
            "2             3    Dinda              2      950000      D  250000        3   \n",
            "3             4    Fajar              1      400000      A  100000        2   \n",
            "4             5      Ika              2     1200000      D  250000        4   \n",
            "5             6    Ilham              1      800000      B  150000        4   \n",
            "6             7    Indra              1      950000      B  150000        5   \n",
            "7             8  Kartika              2     1100000      E  300000        3   \n",
            "8             9  Lestari              2      800000      E  300000        2   \n",
            "9            10      Lia              2     1700000      E  300000        5   \n",
            "\n",
            "     Total  Tingkat Kepuasan  \n",
            "0   400000                 2  \n",
            "1  1000000                 2  \n",
            "2   750000                 3  \n",
            "3   200000                 3  \n",
            "4  1000000                 2  \n",
            "5   600000                 3  \n",
            "6   750000                 1  \n",
            "7   900000                 3  \n",
            "8   600000                 1  \n",
            "9  1500000                 1  \n",
            "   ID Pelanggan   Nama  Jenis Kelamin  Pendapatan Produk   Harga  Jumlah   \\\n",
            "3             4  Fajar              1      400000      A  100000        2   \n",
            "4             5    Ika              2     1200000      D  250000        4   \n",
            "\n",
            "     Total  Tingkat Kepuasan  \n",
            "3   200000                 3  \n",
            "4  1000000                 2  \n",
            "    ID Pelanggan   Nama  Jenis Kelamin  Pendapatan Produk   Harga  Jumlah   \\\n",
            "1              2   Dian              2     1200000      D  250000        4   \n",
            "3              4  Fajar              1      400000      A  100000        2   \n",
            "10            11  Maria              2      600000      A  100000        4   \n",
            "\n",
            "      Total  Tingkat Kepuasan  \n",
            "1   1000000                 2  \n",
            "3    200000                 3  \n",
            "10   400000                 3  \n",
            "   Jenis Kelamin  Pendapatan\n",
            "1              2     1200000\n",
            "2              2      950000\n",
            "3              1      400000\n",
            "4              2     1200000\n",
            "5              1      800000\n",
            "6              1      950000\n",
            "7              2     1100000\n",
            "8              2      800000\n",
            "9              2     1700000\n",
            "     Harga  Tingkat Kepuasan\n",
            "1   250000                 2\n",
            "10  100000                 3\n",
            "15  150000                 1\n"
          ]
        }
      ]
    },
    {
      "cell_type": "markdown",
      "source": [
        "Rata-rata (Mean)"
      ],
      "metadata": {
        "id": "aUwt4P-xgZuy"
      }
    },
    {
      "cell_type": "code",
      "source": [
        "# mengambil hanya data untuk produk 'A'\n",
        "produk_A = raw_data[raw_data['Produk'] == 'A']\n",
        "\n",
        "# menghitung rerata pendapatan menggunakan method .mean pada objek pandas DataFrame\n",
        "print (produk_A['Pendapatan'].mean())\n",
        "\n",
        "# menghitung rerata pendapatan menggunakan method .mean pada objek pandas DataFrame dengan numpy\n",
        "print (np.mean(produk_A['Pendapatan']))"
      ],
      "metadata": {
        "id": "Tas0Q9XOgacK",
        "outputId": "3841a33d-7b72-427b-ebe0-80c0818fabea",
        "colab": {
          "base_uri": "https://localhost:8080/"
        }
      },
      "execution_count": 17,
      "outputs": [
        {
          "output_type": "stream",
          "name": "stdout",
          "text": [
            "550000.0\n",
            "550000.0\n"
          ]
        }
      ]
    },
    {
      "cell_type": "markdown",
      "source": [
        "Median"
      ],
      "metadata": {
        "id": "PGnEoxwZiKfA"
      }
    },
    {
      "cell_type": "code",
      "source": [
        "print (raw_data)\n",
        "# Hitung median dari pendapatan menggunakan pandas\n",
        "print (produk_A['Pendapatan'].median())\n",
        "\n",
        "# Hitung median dari pendapatan menggunakan numpy\n",
        "print (np.median(produk_A['Pendapatan']))"
      ],
      "metadata": {
        "id": "NpF__lz9iLLY",
        "outputId": "d1d08a95-a4b1-400c-f163-218bfb43f6a6",
        "colab": {
          "base_uri": "https://localhost:8080/"
        }
      },
      "execution_count": 19,
      "outputs": [
        {
          "output_type": "stream",
          "name": "stdout",
          "text": [
            "    ID Pelanggan     Nama  Jenis Kelamin  Pendapatan Produk   Harga  Jumlah   \\\n",
            "0              1     Arif              1      600000      A  100000        4   \n",
            "1              2     Dian              2     1200000      D  250000        4   \n",
            "2              3    Dinda              2      950000      D  250000        3   \n",
            "3              4    Fajar              1      400000      A  100000        2   \n",
            "4              5      Ika              2     1200000      D  250000        4   \n",
            "5              6    Ilham              1      800000      B  150000        4   \n",
            "6              7    Indra              1      950000      B  150000        5   \n",
            "7              8  Kartika              2     1100000      E  300000        3   \n",
            "8              9  Lestari              2      800000      E  300000        2   \n",
            "9             10      Lia              2     1700000      E  300000        5   \n",
            "10            11    Maria              2      600000      A  100000        4   \n",
            "11            12     Maya              2      950000      B  150000        5   \n",
            "12            13     Mila              2      400000      C  200000        1   \n",
            "13            14    Nurul              2     6450000      D  250000        5   \n",
            "14            15    Retno              2     1000000      C  200000        4   \n",
            "15            16     Rini              2      800000      B  150000        4   \n",
            "16            17    Rizki              1     1200000      C  200000        5   \n",
            "17            18     Sari              2      700000      D  250000        2   \n",
            "18            19     Tyas              2      600000      A  100000        4   \n",
            "19            20    Wahyu              1      800000      C  200000        3   \n",
            "\n",
            "      Total  Tingkat Kepuasan  \n",
            "0    400000                 2  \n",
            "1   1000000                 2  \n",
            "2    750000                 3  \n",
            "3    200000                 3  \n",
            "4   1000000                 2  \n",
            "5    600000                 3  \n",
            "6    750000                 1  \n",
            "7    900000                 3  \n",
            "8    600000                 1  \n",
            "9   1500000                 1  \n",
            "10   400000                 3  \n",
            "11   750000                 3  \n",
            "12   200000                 2  \n",
            "13  1250000                 1  \n",
            "14   800000                 2  \n",
            "15   600000                 1  \n",
            "16  1000000                 3  \n",
            "17   500000                 1  \n",
            "18   400000                 3  \n",
            "19   600000                 1  \n",
            "600000.0\n",
            "600000.0\n"
          ]
        }
      ]
    },
    {
      "cell_type": "markdown",
      "source": [
        "Modus"
      ],
      "metadata": {
        "id": "mopgj_PUidXP"
      }
    },
    {
      "cell_type": "code",
      "source": [
        "# Melihat jumlah dari masing-masing produk\n",
        "print(raw_data['Produk'].value_counts())"
      ],
      "metadata": {
        "id": "X9VztL2jif2Q",
        "outputId": "f46fd970-66fd-4391-aaf6-b21714ffc287",
        "colab": {
          "base_uri": "https://localhost:8080/"
        }
      },
      "execution_count": 21,
      "outputs": [
        {
          "output_type": "stream",
          "name": "stdout",
          "text": [
            "Produk\n",
            "D    5\n",
            "A    4\n",
            "B    4\n",
            "C    4\n",
            "E    3\n",
            "Name: count, dtype: int64\n"
          ]
        }
      ]
    },
    {
      "cell_type": "markdown",
      "source": [
        "Kuantil"
      ],
      "metadata": {
        "id": "F2O2y58kkQe-"
      }
    },
    {
      "cell_type": "code",
      "source": [
        "# mencari median atau 50% dari data menggunakan pandas\n",
        "print(raw_data['Pendapatan'].quantile(q = 0.5))\n",
        "\n",
        "# mencari median atau 50% dari data menggunakan numpy\n",
        "print(np.quantile(raw_data['Pendapatan'], q=0.5))"
      ],
      "metadata": {
        "id": "TEi5uoG9kST2",
        "outputId": "ea0586d1-1a81-4b11-eecc-2912b8e3da39",
        "colab": {
          "base_uri": "https://localhost:8080/"
        }
      },
      "execution_count": 22,
      "outputs": [
        {
          "output_type": "stream",
          "name": "stdout",
          "text": [
            "875000.0\n",
            "875000.0\n"
          ]
        }
      ]
    },
    {
      "cell_type": "markdown",
      "source": [
        "Agregasi Data dengan method .agg()"
      ],
      "metadata": {
        "id": "Cn51KfC6ldFE"
      }
    },
    {
      "cell_type": "code",
      "source": [
        "# menghitung rerata dan median 'Pendapatan' dan 'Harga'\n",
        "print(raw_data[['Pendapatan', 'Harga']].agg([np.mean, np.median]))\n",
        "\n",
        "# menghitung rerata dan median Pendapatan dan Harga dari tiap produk\n",
        "print(raw_data[['Pendapatan', 'Harga', 'Produk']].groupby('Produk').agg([np.mean, np.median]))"
      ],
      "metadata": {
        "id": "OWg3mem6leD-",
        "outputId": "f8f4246e-adad-4db0-82eb-e37da980599d",
        "colab": {
          "base_uri": "https://localhost:8080/"
        }
      },
      "execution_count": 26,
      "outputs": [
        {
          "output_type": "stream",
          "name": "stdout",
          "text": [
            "        Pendapatan     Harga\n",
            "mean     1160000.0  197500.0\n",
            "median    875000.0  200000.0\n",
            "       Pendapatan                Harga          \n",
            "             mean     median      mean    median\n",
            "Produk                                          \n",
            "A        550000.0   600000.0  100000.0  100000.0\n",
            "B        875000.0   875000.0  150000.0  150000.0\n",
            "C        850000.0   900000.0  200000.0  200000.0\n",
            "D       2100000.0  1200000.0  250000.0  250000.0\n",
            "E       1200000.0  1100000.0  300000.0  300000.0\n"
          ]
        },
        {
          "output_type": "stream",
          "name": "stderr",
          "text": [
            "/tmp/ipython-input-26-2349514775.py:2: FutureWarning: The provided callable <function mean at 0x7ebe013d2340> is currently using Series.mean. In a future version of pandas, the provided callable will be used directly. To keep current behavior pass the string \"mean\" instead.\n",
            "  print(raw_data[['Pendapatan', 'Harga']].agg([np.mean, np.median]))\n",
            "/tmp/ipython-input-26-2349514775.py:2: FutureWarning: The provided callable <function median at 0x7ebdfe137600> is currently using Series.median. In a future version of pandas, the provided callable will be used directly. To keep current behavior pass the string \"median\" instead.\n",
            "  print(raw_data[['Pendapatan', 'Harga']].agg([np.mean, np.median]))\n",
            "/tmp/ipython-input-26-2349514775.py:5: FutureWarning: The provided callable <function mean at 0x7ebe013d2340> is currently using SeriesGroupBy.mean. In a future version of pandas, the provided callable will be used directly. To keep current behavior pass the string \"mean\" instead.\n",
            "  print(raw_data[['Pendapatan', 'Harga', 'Produk']].groupby('Produk').agg([np.mean, np.median]))\n",
            "/tmp/ipython-input-26-2349514775.py:5: FutureWarning: The provided callable <function median at 0x7ebdfe137600> is currently using SeriesGroupBy.median. In a future version of pandas, the provided callable will be used directly. To keep current behavior pass the string \"median\" instead.\n",
            "  print(raw_data[['Pendapatan', 'Harga', 'Produk']].groupby('Produk').agg([np.mean, np.median]))\n",
            "/tmp/ipython-input-26-2349514775.py:5: FutureWarning: The provided callable <function mean at 0x7ebe013d2340> is currently using SeriesGroupBy.mean. In a future version of pandas, the provided callable will be used directly. To keep current behavior pass the string \"mean\" instead.\n",
            "  print(raw_data[['Pendapatan', 'Harga', 'Produk']].groupby('Produk').agg([np.mean, np.median]))\n"
          ]
        }
      ]
    },
    {
      "cell_type": "markdown",
      "source": [
        "Proporsi Kategori"
      ],
      "metadata": {
        "id": "I23_pt2GoD3S"
      }
    },
    {
      "cell_type": "code",
      "source": [
        "# cari proporsi tiap Produk\n",
        "print(raw_data['Produk'].value_counts()/raw_data.shape[0])"
      ],
      "metadata": {
        "id": "myEZNdyRoEcy",
        "outputId": "d75c69bd-7536-4802-8dfd-b4c0889b90a0",
        "colab": {
          "base_uri": "https://localhost:8080/"
        }
      },
      "execution_count": 27,
      "outputs": [
        {
          "output_type": "stream",
          "name": "stdout",
          "text": [
            "Produk\n",
            "D    0.25\n",
            "A    0.20\n",
            "B    0.20\n",
            "C    0.20\n",
            "E    0.15\n",
            "Name: count, dtype: float64\n"
          ]
        }
      ]
    },
    {
      "cell_type": "markdown",
      "source": [
        "Ukuran Sebaran pada Data Interval dan Rasio"
      ],
      "metadata": {
        "id": "TsZuWORhojV5"
      }
    },
    {
      "cell_type": "code",
      "source": [
        "# Cari nilai rentang dari kolom 'Pendapatan'\n",
        "print (raw_data['Pendapatan'].max() - raw_data['Pendapatan'].min())"
      ],
      "metadata": {
        "id": "Ohk7ce8XokBs",
        "outputId": "d5ff819c-fae2-4305-b3de-254a199a7bf4",
        "colab": {
          "base_uri": "https://localhost:8080/"
        }
      },
      "execution_count": 28,
      "outputs": [
        {
          "output_type": "stream",
          "name": "stdout",
          "text": [
            "6050000\n"
          ]
        }
      ]
    },
    {
      "cell_type": "markdown",
      "source": [
        "Variansi"
      ],
      "metadata": {
        "id": "V1bDE4aOp1HQ"
      }
    },
    {
      "cell_type": "code",
      "source": [
        "# menghitung variansi Pendapatan menggunakan method .var() dari pandas\n",
        "print (raw_data['Pendapatan'].var())\n",
        "\n",
        "# menghitung variansi Pendapatan menggunakan method .var() dari numpy\n",
        "print (np.var(raw_data['Pendapatan']))\n",
        "\n",
        "# mengatur variansi populasi dengan method `.var()` dari pandas\n",
        "print (raw_data['Pendapatan'].var(ddof=0))"
      ],
      "metadata": {
        "id": "-_8dQ3Cgp19v",
        "outputId": "ecc6b71f-c9d0-4055-ef2b-ff2ca3c82608",
        "colab": {
          "base_uri": "https://localhost:8080/"
        }
      },
      "execution_count": 29,
      "outputs": [
        {
          "output_type": "stream",
          "name": "stdout",
          "text": [
            "1645684210526.3157\n",
            "1563400000000.0\n",
            "1563400000000.0\n"
          ]
        }
      ]
    },
    {
      "cell_type": "markdown",
      "source": [
        "Deviasi Baku (Standard Deviation)"
      ],
      "metadata": {
        "id": "qZt0Rh0kqOl4"
      }
    },
    {
      "cell_type": "code",
      "source": [
        "# menghitung deviasi baku sampel pendapatan menggunakan method std() dari pandas\n",
        "print (raw_data['Pendapatan'].std())\n",
        "\n",
        "# menghitung deviasi baku sampel pendapatan menggunakan method std() dari numpy\n",
        "print (np.std(raw_data['Pendapatan'], ddof = 1))"
      ],
      "metadata": {
        "id": "59FwTBGKqPFf",
        "outputId": "415ea9db-b940-481f-a3e0-5259937fa4d1",
        "colab": {
          "base_uri": "https://localhost:8080/"
        }
      },
      "execution_count": 30,
      "outputs": [
        {
          "output_type": "stream",
          "name": "stdout",
          "text": [
            "1282842.2391417876\n",
            "1282842.2391417876\n"
          ]
        }
      ]
    },
    {
      "cell_type": "markdown",
      "source": [
        "Menghitung Korelasi"
      ],
      "metadata": {
        "id": "22eC8vBgvYOq"
      }
    },
    {
      "cell_type": "code",
      "source": [
        "# menghitung korelasi dari setiap pasang variabel pada raw_data, hanya memilih kolom numerik\n",
        "print (raw_data.corr(numeric_only=True))\n",
        "\n",
        "# mencari korelasi 'kendall' untuk tiap pasang variabel, hanya memilih kolom numerik\n",
        "print (raw_data.corr(method='kendall', numeric_only=True))\n",
        "\n",
        "# mencari korelasi 'spearman' untuk tiap pasang variabel, hanya memilih kolom numerik\n",
        "print (raw_data.corr(method='spearman', numeric_only=True))"
      ],
      "metadata": {
        "id": "l7sUunRXwCv-",
        "outputId": "46aad376-719e-4774-ace6-c36e147953d4",
        "colab": {
          "base_uri": "https://localhost:8080/"
        }
      },
      "execution_count": 34,
      "outputs": [
        {
          "output_type": "stream",
          "name": "stdout",
          "text": [
            "                  ID Pelanggan  Jenis Kelamin  Pendapatan     Harga   Jumlah   \\\n",
            "ID Pelanggan          1.000000       0.151375    0.110958 -0.028707  0.011289   \n",
            "Jenis Kelamin         0.151375       1.000000    0.192849  0.457555 -0.104168   \n",
            "Pendapatan            0.110958       0.192849    1.000000  0.322443  0.399825   \n",
            "Harga                -0.028707       0.457555    0.322443  1.000000 -0.138883   \n",
            "Jumlah                0.011289      -0.104168    0.399825 -0.138883  1.000000   \n",
            "Total                -0.039968       0.238051    0.592044  0.645455  0.636097   \n",
            "Tingkat Kepuasan     -0.245717      -0.088339   -0.312663 -0.380798  0.017568   \n",
            "\n",
            "                     Total  Tingkat Kepuasan  \n",
            "ID Pelanggan     -0.039968         -0.245717  \n",
            "Jenis Kelamin     0.238051         -0.088339  \n",
            "Pendapatan        0.592044         -0.312663  \n",
            "Harga             0.645455         -0.380798  \n",
            "Jumlah            0.636097          0.017568  \n",
            "Total             1.000000         -0.268345  \n",
            "Tingkat Kepuasan -0.268345          1.000000  \n",
            "                  ID Pelanggan  Jenis Kelamin  Pendapatan     Harga   Jumlah   \\\n",
            "ID Pelanggan          1.000000       0.126650   -0.054998 -0.005753  0.024016   \n",
            "Jenis Kelamin         0.126650       1.000000    0.190245  0.415339 -0.090299   \n",
            "Pendapatan           -0.054998       0.190245    1.000000  0.523053  0.501925   \n",
            "Harga                -0.005753       0.415339    0.523053  1.000000 -0.098450   \n",
            "Jumlah                0.024016      -0.090299    0.501925 -0.098450  1.000000   \n",
            "Total                -0.065998       0.190245    0.988506  0.535078  0.501925   \n",
            "Tingkat Kepuasan     -0.183817      -0.085796   -0.165588 -0.325659 -0.028923   \n",
            "\n",
            "                     Total  Tingkat Kepuasan  \n",
            "ID Pelanggan     -0.065998         -0.183817  \n",
            "Jenis Kelamin     0.190245         -0.085796  \n",
            "Pendapatan        0.988506         -0.165588  \n",
            "Harga             0.535078         -0.325659  \n",
            "Jumlah            0.501925         -0.028923  \n",
            "Total             1.000000         -0.165588  \n",
            "Tingkat Kepuasan -0.165588          1.000000  \n",
            "                  ID Pelanggan  Jenis Kelamin  Pendapatan     Harga   Jumlah   \\\n",
            "ID Pelanggan          1.000000       0.151375   -0.063711 -0.039149  0.046356   \n",
            "Jenis Kelamin         0.151375       1.000000    0.219508  0.463635 -0.098864   \n",
            "Pendapatan           -0.063711       0.219508    1.000000  0.640000  0.607110   \n",
            "Harga                -0.039149       0.463635    0.640000  1.000000 -0.130749   \n",
            "Jumlah                0.046356      -0.098864    0.607110 -0.130749  1.000000   \n",
            "Total                -0.069779       0.219508    0.998470  0.646194  0.607110   \n",
            "Tingkat Kepuasan     -0.238890      -0.090784   -0.192463 -0.378933 -0.023874   \n",
            "\n",
            "                     Total  Tingkat Kepuasan  \n",
            "ID Pelanggan     -0.069779         -0.238890  \n",
            "Jenis Kelamin     0.219508         -0.090784  \n",
            "Pendapatan        0.998470         -0.192463  \n",
            "Harga             0.646194         -0.378933  \n",
            "Jumlah            0.607110         -0.023874  \n",
            "Total             1.000000         -0.192463  \n",
            "Tingkat Kepuasan -0.192463          1.000000  \n"
          ]
        }
      ]
    },
    {
      "cell_type": "markdown",
      "source": [],
      "metadata": {
        "id": "ubwMvHBvwNPw"
      }
    }
  ]
}